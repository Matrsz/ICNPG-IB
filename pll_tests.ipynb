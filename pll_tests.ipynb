{
 "cells": [
  {
   "cell_type": "code",
   "execution_count": 1,
   "metadata": {},
   "outputs": [],
   "source": [
    "using Random\n",
    "using Base: Fix2\n",
    "using Plots, LaTeXStrings, ColorSchemes\n",
    "using FFTW\n",
    "using CUDA"
   ]
  },
  {
   "cell_type": "code",
   "execution_count": 3,
   "metadata": {},
   "outputs": [
    {
     "data": {
      "text/plain": [
       ":qpsk"
      ]
     },
     "metadata": {},
     "output_type": "display_data"
    }
   ],
   "source": [
    "default(fontfamily=\"serif\", legendfontsize=10, titlefontsize=12, palette=:seaborn_deep6)\n",
    "gr()\n",
    "\n",
    "\n",
    "msglen = 100\n",
    "scheme = :qpsk"
   ]
  },
  {
   "cell_type": "code",
   "execution_count": 4,
   "metadata": {},
   "outputs": [
    {
     "data": {
      "text/plain": [
       "100-element CuArray{Int64, 1, CUDA.Mem.DeviceBuffer}:\n",
       " 0\n",
       " 0\n",
       " 0\n",
       " 1\n",
       " 1\n",
       " 0\n",
       " 1\n",
       " 1\n",
       " 1\n",
       " 1\n",
       " ⋮\n",
       " 1\n",
       " 0\n",
       " 1\n",
       " 0\n",
       " 0\n",
       " 1\n",
       " 0\n",
       " 1\n",
       " 1"
      ]
     },
     "metadata": {},
     "output_type": "display_data"
    }
   ],
   "source": [
    "stream = bitrand(msglen) .|> Int\n",
    "stream_d = CuArray(stream)"
   ]
  },
  {
   "cell_type": "code",
   "execution_count": 10,
   "metadata": {},
   "outputs": [
    {
     "name": "stderr",
     "output_type": "stream",
     "text": [
      "┌ Info: To blocks\n",
      "└ @ Main /home/icnpg/Escritorio/mat/ICNPG-IB/pll_tests.ipynb:10\n"
     ]
    },
    {
     "data": {
      "text/plain": [
       "0.030670321"
      ]
     },
     "metadata": {},
     "output_type": "display_data"
    }
   ],
   "source": [
    "function cu_to_blocks(data::CuArray, type=:bpsk)\n",
    "    nbits = Dict(:bpsk => 48, :qpsk => 96, :qam16 => 192, :qam64 => 288)\n",
    "    pad_bits = nbits[type] - mod(length(data), nbits[type])\n",
    "    data = vcat(data, zeros(pad_bits))\n",
    "\n",
    "    # Reshape the ArrayFire array to the desired block size\n",
    "    return reshape(data, nbits[type], :)\n",
    "end\n",
    "\n",
    "@info \"To blocks\"\n",
    "t_to_blocks = @elapsed begin\n",
    "    blocks_d = cu_to_blocks(stream_d, scheme)\n",
    "end\n"
   ]
  },
  {
   "cell_type": "code",
   "execution_count": 11,
   "metadata": {},
   "outputs": [
    {
     "data": {
      "text/plain": [
       "96×2 CuArray{Float64, 2, CUDA.Mem.DeviceBuffer}:\n",
       " 0.0  1.0\n",
       " 0.0  0.0\n",
       " 0.0  1.0\n",
       " 1.0  1.0\n",
       " 1.0  0.0\n",
       " 0.0  0.0\n",
       " 1.0  0.0\n",
       " 1.0  0.0\n",
       " 1.0  0.0\n",
       " 1.0  0.0\n",
       " ⋮    \n",
       " 1.0  0.0\n",
       " 0.0  0.0\n",
       " 0.0  0.0\n",
       " 0.0  0.0\n",
       " 1.0  0.0\n",
       " 0.0  0.0\n",
       " 1.0  0.0\n",
       " 0.0  0.0\n",
       " 0.0  0.0"
      ]
     },
     "metadata": {},
     "output_type": "display_data"
    }
   ],
   "source": [
    "blocks_d"
   ]
  },
  {
   "cell_type": "code",
   "execution_count": 60,
   "metadata": {},
   "outputs": [
    {
     "data": {
      "text/plain": [
       "cu_itoj (generic function with 1 method)"
      ]
     },
     "metadata": {},
     "output_type": "display_data"
    }
   ],
   "source": [
    "function ktoi_kernel(result, N, ks)\n",
    "    for idx = 1:length(ks)\n",
    "        @inbounds result[idx] = N[1] ÷ 16 * (ks[idx] % 16) + floor(ks[idx] ÷ 16) |> Int\n",
    "    end\n",
    "    return\n",
    "end\n",
    "\n",
    "function itoj_kernel(result, N, s, is)\n",
    "    for idx = 1:length(is)\n",
    "        @inbounds result[idx] = s[1] * floor(is[idx] ÷ s[1]) + (is[idx] + N[1] - floor((16 * is[idx]) ÷ N[1])) % s[1] |> Int\n",
    "    end\n",
    "    return\n",
    "end\n",
    "\n",
    "function cu_ktoi(N, ks)\n",
    "    result_cuda = CUDA.CuArray{Int}(undef, N)\n",
    "    @cuda threads=1 blocks=1 ktoi_kernel(result_cuda, CuArray([N]), ks)\n",
    "\n",
    "    return result_cuda\n",
    "end\n",
    "\n",
    "function cu_itoj(N, s, is)\n",
    "    result_cuda = CUDA.CuArray{Int}(undef, N)\n",
    "    @cuda threads=1 blocks=1 itoj_kernel(result_cuda, CuArray([N]), CuArray([s]), is)\n",
    "\n",
    "    return result_cuda\n",
    "end"
   ]
  },
  {
   "cell_type": "code",
   "execution_count": 61,
   "metadata": {},
   "outputs": [
    {
     "data": {
      "text/plain": [
       "192"
      ]
     },
     "metadata": {},
     "output_type": "display_data"
    }
   ],
   "source": [
    "N = 192"
   ]
  },
  {
   "cell_type": "code",
   "execution_count": 65,
   "metadata": {},
   "outputs": [
    {
     "data": {
      "text/plain": [
       "cu_indices (generic function with 1 method)"
      ]
     },
     "metadata": {},
     "output_type": "display_data"
    }
   ],
   "source": [
    "function cu_indices(N)\n",
    "    arr = CuArray{Int}(0:N-1)\n",
    "    return arr\n",
    "end"
   ]
  },
  {
   "cell_type": "code",
   "execution_count": 66,
   "metadata": {},
   "outputs": [
    {
     "ename": "CuError",
     "evalue": "CUDA error: unspecified launch failure (code 719, ERROR_LAUNCH_FAILED)",
     "output_type": "error",
     "traceback": [
      "CUDA error: unspecified launch failure (code 719, ERROR_LAUNCH_FAILED)\n",
      "\n",
      "Stacktrace:\n",
      "  [1] throw_api_error(res::CUDA.cudaError_enum)\n",
      "    @ CUDA ~/.julia/packages/CUDA/pCcGc/lib/cudadrv/libcuda.jl:27\n",
      "  [2] check\n",
      "    @ ~/.julia/packages/CUDA/pCcGc/lib/cudadrv/libcuda.jl:34 [inlined]\n",
      "  [3] cuMemAllocAsync\n",
      "    @ ~/.julia/packages/CUDA/pCcGc/lib/utils/call.jl:26 [inlined]\n",
      "  [4] alloc(::Type{CUDA.Mem.DeviceBuffer}, bytesize::Int64; async::Bool, stream::CuStream, pool::Nothing)\n",
      "    @ CUDA.Mem ~/.julia/packages/CUDA/pCcGc/lib/cudadrv/memory.jl:83\n",
      "  [5] alloc\n",
      "    @ ~/.julia/packages/CUDA/pCcGc/lib/cudadrv/memory.jl:71 [inlined]\n",
      "  [6] actual_alloc(bytes::Int64; async::Bool, stream::CuStream)\n",
      "    @ CUDA ~/.julia/packages/CUDA/pCcGc/src/pool.jl:65\n",
      "  [7] actual_alloc\n",
      "    @ ~/.julia/packages/CUDA/pCcGc/src/pool.jl:59 [inlined]\n",
      "  [8] #990\n",
      "    @ ~/.julia/packages/CUDA/pCcGc/src/pool.jl:417 [inlined]\n",
      "  [9] retry_reclaim(f::CUDA.var\"#990#992\"{CuStream, Int64}, isfailed::typeof(isnothing))\n",
      "    @ CUDA ~/.julia/packages/CUDA/pCcGc/src/pool.jl:337\n",
      " [10] macro expansion\n",
      "    @ ~/.julia/packages/CUDA/pCcGc/src/pool.jl:416 [inlined]\n",
      " [11] macro expansion\n",
      "    @ ./timing.jl:393 [inlined]\n",
      " [12] #_alloc#989\n",
      "    @ ~/.julia/packages/CUDA/pCcGc/src/pool.jl:413 [inlined]\n",
      " [13] _alloc\n",
      "    @ ~/.julia/packages/CUDA/pCcGc/src/pool.jl:408 [inlined]\n",
      " [14] #alloc#988\n",
      "    @ ~/.julia/packages/CUDA/pCcGc/src/pool.jl:398 [inlined]\n",
      " [15] alloc\n",
      "    @ ~/.julia/packages/CUDA/pCcGc/src/pool.jl:392 [inlined]\n",
      " [16] CuArray{Int64, 1, CUDA.Mem.DeviceBuffer}(#unused#::UndefInitializer, dims::Tuple{Int64})\n",
      "    @ CUDA ~/.julia/packages/CUDA/pCcGc/src/array.jl:93\n",
      " [17] CuArray\n",
      "    @ ~/.julia/packages/CUDA/pCcGc/src/array.jl:342 [inlined]\n",
      " [18] CuArray\n",
      "    @ ~/.julia/packages/CUDA/pCcGc/src/array.jl:347 [inlined]\n",
      " [19] (CuArray{Int64})(xs::UnitRange{Int64})\n",
      "    @ CUDA ~/.julia/packages/CUDA/pCcGc/src/array.jl:354\n",
      " [20] cu_indices(N::Int64)\n",
      "    @ Main ~/Escritorio/mat/ICNPG-IB/pll_tests.ipynb:2\n",
      " [21] top-level scope\n",
      "    @ ~/Escritorio/mat/ICNPG-IB/pll_tests.ipynb:1"
     ]
    }
   ],
   "source": [
    "indices = cu_indices(N)\n",
    "\n",
    "\n",
    "cu_ktoi(N, indices)"
   ]
  },
  {
   "cell_type": "code",
   "execution_count": null,
   "metadata": {},
   "outputs": [],
   "source": [
    "function cu_interleave(block, type=:qpsk)\n",
    "    N = Dict(:qpsk => 96, :qam16 => 192, :qam64 => 288)[type]\n",
    "    s = Dict(:qpsk => 1, :qam16 => 2, :qam64 => 3)[type]\n",
    "    ks = cu_indices(N[type])\n",
    "    is = cu_ktoi(N[type], ks)\n",
    "    js = cu_itoj(N[type], s[type], is)\n",
    "    return block[js]\n",
    "end\n",
    "\n",
    "@info \"Interleave\"\n",
    "t_interleave = @elapsed begin\n",
    "    blocks = interleave.(blocks, scheme)\n",
    "end\n"
   ]
  },
  {
   "cell_type": "code",
   "execution_count": null,
   "metadata": {},
   "outputs": [],
   "source": [
    "function modulate(bits, bit_map)\n",
    "    n = length(bits) ÷ 2\n",
    "    return (bit_map[bits[1:n]] |> Float64) + im * (bit_map[bits[n + 1:end]] |> Float64)\n",
    "end\n",
    "\n",
    "function modulate_block(block, type=:qpsk)\n",
    "    values = Dict(        \n",
    "        :qpsk  => Dict([0] => -1,\n",
    "                       [1] => 1),\n",
    "        :qam16 => Dict([0, 0] => -3, [0, 1] => -1,\n",
    "                       [1, 1] => 1, [1, 0] => 3),\n",
    "        :qam64 => Dict([0, 0, 0] => -7, [0, 0, 1] => -5, [0, 1, 1] => -3, [0, 1, 0] => -1,\n",
    "                       [1, 1, 0] => 1, [1, 1, 1] => 3, [1, 0, 1] => 5, [1, 0, 0] => 7))\n",
    "    nbits = Dict(:bpsk => 1, :qpsk => 2, :qam16 => 4, :qam64 => 6)\n",
    "    return [modulate(x, values[type]) for x in Iterators.partition(block, nbits[type])]\n",
    "end\n",
    "\n",
    "@info \"Modulation\"\n",
    "t_modulation = @elapsed begin\n",
    "    blocks = modulate_block.(blocks, scheme)\n",
    "end"
   ]
  },
  {
   "cell_type": "code",
   "execution_count": null,
   "metadata": {},
   "outputs": [],
   "source": [
    "function add_pilots(x)\n",
    "    return vcat(x[1:5], 0, x[6:18], 0, x[19:24], 0, x[25:30], 0, x[31:43], 0, x[44:48])\n",
    "end\n",
    "\n",
    "function shift(x)\n",
    "    return vcat(x[1:26], zeros(12), x[28:53])\n",
    "end\n",
    "    \n",
    "\n",
    "@info \"Pilot Waves\"\n",
    "t_pilot_waves = @elapsed begin\n",
    "    pblocks = add_pilots.(blocks)\n",
    "    sblocks = shift.(pblocks)\n",
    "end"
   ]
  },
  {
   "cell_type": "code",
   "execution_count": null,
   "metadata": {},
   "outputs": [],
   "source": [
    "\n",
    "@info \"IFFT\"\n",
    "t_ifft = @elapsed begin\n",
    "    waves = ifft.(sblocks)\n",
    "end"
   ]
  },
  {
   "cell_type": "code",
   "execution_count": null,
   "metadata": {},
   "outputs": [],
   "source": [
    "pblock = pblocks[1]\n",
    "p1 = plot(-26:26, pblock |> real, line=:stem, marker=:square, markersize=3, ylabel=L\"\\mathcal{Re}\", title=\"Descripción Frecuencia\")\n",
    "p2 = plot(-26:26, pblock |> imag, line=:stem, marker=:square, markersize=3, ylabel=L\"\\mathcal{Im}\", xlabel=\"k\")\n",
    "\n",
    "plot(p1, p2, layout=(2, 1), legend=false)\n",
    "\n",
    "savefig(\"freq.png\")\n",
    "\n",
    "wave = waves[1]\n",
    "\n",
    "t = range(0, 8, length=length(wave))\n",
    "\n",
    "p1 = plot(t, wave |> real, line=:steppost, linewidth=1, ylabel=\"canal I\", title=\"Señal Transmitida\")\n",
    "p2 = plot(t, wave |> imag, line=:steppost, linewidth=1, ylabel=\"canal Q\", xlabel=\"t [μs]\")\n",
    "\n",
    "plot(p1, p2, layout=(2, 1), legend=false)\n",
    "\n",
    "savefig(\"wave.png\")\n"
   ]
  }
 ],
 "metadata": {
  "kernelspec": {
   "display_name": "Julia 1.9.0",
   "language": "julia",
   "name": "julia-1.9"
  },
  "language_info": {
   "file_extension": ".jl",
   "mimetype": "application/julia",
   "name": "julia",
   "version": "1.9.0"
  },
  "orig_nbformat": 4
 },
 "nbformat": 4,
 "nbformat_minor": 2
}

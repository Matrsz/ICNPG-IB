{
 "cells": [
  {
   "cell_type": "code",
   "execution_count": 1,
   "metadata": {},
   "outputs": [],
   "source": [
    "using Random\n",
    "using Base: Fix2\n",
    "using Plots, LaTeXStrings, ColorSchemes\n",
    "using FFTW\n",
    "using ArrayFire"
   ]
  },
  {
   "cell_type": "code",
   "execution_count": null,
   "metadata": {},
   "outputs": [],
   "source": [
    "default(fontfamily=\"serif\", legendfontsize=10, titlefontsize=12, palette=:seaborn_deep6)\n",
    "pyplot()\n",
    "\n",
    "\n",
    "msglen = 100\n",
    "scheme = :qpsk"
   ]
  },
  {
   "cell_type": "code",
   "execution_count": null,
   "metadata": {},
   "outputs": [],
   "source": [
    "stream = bitrand(msglen) .|> Int\n",
    "stream_AF = AFArray(stream)"
   ]
  },
  {
   "cell_type": "code",
   "execution_count": null,
   "metadata": {},
   "outputs": [],
   "source": [
    "function to_blocks_AF(data::AFArray, type=:bpsk)\n",
    "    nbits = Dict(:bpsk => 48, :qpsk => 96, :qam16 => 192, :qam64 => 288)\n",
    "    pad_bits = nbits[type] - mod(length(data), nbits[type])\n",
    "    data = vcat(data, zeros(pad_bits))\n",
    "\n",
    "    # Reshape the ArrayFire array to the desired block size\n",
    "    return = AFArray(reshape(data_af, nbits[type], :))\n",
    "end\n",
    "\n",
    "@info \"To blocks\"\n",
    "t_to_blocks = @elapsed begin\n",
    "    blocks_AF = to_blocks_AF(stream_AF, scheme)\n",
    "end\n"
   ]
  },
  {
   "cell_type": "code",
   "execution_count": null,
   "metadata": {},
   "outputs": [],
   "source": [
    "function ktoi(N, k)\n",
    "    return N ÷ 16 * (k % 16) + floor(k ÷ 16) |> Int\n",
    "end\n",
    "\n",
    "function itoj(N, s, i)\n",
    "    return s * floor(i ÷ s) + (i + N - floor((16 * i) ÷ N)) % s |> Int\n",
    "end\n",
    "\n",
    "function interleave(block, type=:qpsk)\n",
    "    N = Dict(:qpsk => 96, :qam16 => 192, :qam64 => 288)[type]\n",
    "    s = Dict(:qpsk => 1, :qam16 => 2, :qam64 => 3)[type]\n",
    "    ks = 0:N-1\n",
    "    is = ktoi.(N, ks)\n",
    "    js = itoj.(N, s, is)\n",
    "    return block[js .+ 1]\n",
    "end\n",
    "\n",
    "@info \"Interleave\"\n",
    "t_interleave = @elapsed begin\n",
    "    blocks = interleave.(blocks, scheme)\n",
    "end\n"
   ]
  },
  {
   "cell_type": "code",
   "execution_count": null,
   "metadata": {},
   "outputs": [],
   "source": [
    "function modulate(bits, bit_map)\n",
    "    n = length(bits) ÷ 2\n",
    "    return (bit_map[bits[1:n]] |> Float64) + im * (bit_map[bits[n + 1:end]] |> Float64)\n",
    "end\n",
    "\n",
    "function modulate_block(block, type=:qpsk)\n",
    "    values = Dict(        \n",
    "        :qpsk  => Dict([0] => -1,\n",
    "                       [1] => 1),\n",
    "        :qam16 => Dict([0, 0] => -3, [0, 1] => -1,\n",
    "                       [1, 1] => 1, [1, 0] => 3),\n",
    "        :qam64 => Dict([0, 0, 0] => -7, [0, 0, 1] => -5, [0, 1, 1] => -3, [0, 1, 0] => -1,\n",
    "                       [1, 1, 0] => 1, [1, 1, 1] => 3, [1, 0, 1] => 5, [1, 0, 0] => 7))\n",
    "    nbits = Dict(:bpsk => 1, :qpsk => 2, :qam16 => 4, :qam64 => 6)\n",
    "    return [modulate(x, values[type]) for x in Iterators.partition(block, nbits[type])]\n",
    "end\n",
    "\n",
    "@info \"Modulation\"\n",
    "t_modulation = @elapsed begin\n",
    "    blocks = modulate_block.(blocks, scheme)\n",
    "end"
   ]
  },
  {
   "cell_type": "code",
   "execution_count": null,
   "metadata": {},
   "outputs": [],
   "source": [
    "function add_pilots(x)\n",
    "    return vcat(x[1:5], 0, x[6:18], 0, x[19:24], 0, x[25:30], 0, x[31:43], 0, x[44:48])\n",
    "end\n",
    "\n",
    "function shift(x)\n",
    "    return vcat(x[1:26], zeros(12), x[28:53])\n",
    "end\n",
    "    \n",
    "\n",
    "@info \"Pilot Waves\"\n",
    "t_pilot_waves = @elapsed begin\n",
    "    pblocks = add_pilots.(blocks)\n",
    "    sblocks = shift.(pblocks)\n",
    "end"
   ]
  },
  {
   "cell_type": "code",
   "execution_count": null,
   "metadata": {},
   "outputs": [],
   "source": [
    "\n",
    "@info \"IFFT\"\n",
    "t_ifft = @elapsed begin\n",
    "    waves = ifft.(sblocks)\n",
    "end"
   ]
  },
  {
   "cell_type": "code",
   "execution_count": null,
   "metadata": {},
   "outputs": [],
   "source": [
    "pblock = pblocks[1]\n",
    "p1 = plot(-26:26, pblock |> real, line=:stem, marker=:square, markersize=3, ylabel=L\"\\mathcal{Re}\", title=\"Descripción Frecuencia\")\n",
    "p2 = plot(-26:26, pblock |> imag, line=:stem, marker=:square, markersize=3, ylabel=L\"\\mathcal{Im}\", xlabel=\"k\")\n",
    "\n",
    "plot(p1, p2, layout=(2, 1), legend=false)\n",
    "\n",
    "savefig(\"freq.png\")\n",
    "\n",
    "wave = waves[1]\n",
    "\n",
    "t = range(0, 8, length=length(wave))\n",
    "\n",
    "p1 = plot(t, wave |> real, line=:steppost, linewidth=1, ylabel=\"canal I\", title=\"Señal Transmitida\")\n",
    "p2 = plot(t, wave |> imag, line=:steppost, linewidth=1, ylabel=\"canal Q\", xlabel=\"t [μs]\")\n",
    "\n",
    "plot(p1, p2, layout=(2, 1), legend=false)\n",
    "\n",
    "savefig(\"wave.png\")\n"
   ]
  }
 ],
 "metadata": {
  "kernelspec": {
   "display_name": "Julia 1.8.5",
   "language": "julia",
   "name": "julia-1.8"
  },
  "language_info": {
   "file_extension": ".jl",
   "mimetype": "application/julia",
   "name": "julia",
   "version": "1.8.5"
  },
  "orig_nbformat": 4
 },
 "nbformat": 4,
 "nbformat_minor": 2
}
